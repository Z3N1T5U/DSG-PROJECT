{
 "cells": [
  {
   "cell_type": "code",
   "execution_count": 1,
   "id": "532e1a41",
   "metadata": {},
   "outputs": [
    {
     "name": "stdout",
     "output_type": "stream",
     "text": [
      "WARNING:tensorflow:From C:\\ProgramData\\anaconda3\\Lib\\site-packages\\keras\\src\\losses.py:2976: The name tf.losses.sparse_softmax_cross_entropy is deprecated. Please use tf.compat.v1.losses.sparse_softmax_cross_entropy instead.\n",
      "\n"
     ]
    },
    {
     "name": "stderr",
     "output_type": "stream",
     "text": [
      "Matplotlib created a temporary cache directory at C:\\Users\\Acer\\AppData\\Local\\Temp\\matplotlib-awtrzyh3 because the default path (C:\\Users\\Acer\\.matplotlib) is not a writable directory; it is highly recommended to set the MPLCONFIGDIR environment variable to a writable directory, in particular to speed up the import of Matplotlib and to better support multiprocessing.\n"
     ]
    }
   ],
   "source": [
    "import pandas as pd\n",
    "import numpy as np\n",
    "import json\n",
    "import re \n",
    "import sys\n",
    "import itertools\n",
    "\n",
    "from tensorflow.keras.models import Sequential\n",
    "from tensorflow.keras.layers import Dense\n",
    "\n",
    "from tensorflow.keras import utils\n",
    "\n",
    "from sklearn.feature_extraction.text import TfidfVectorizer\n",
    "from sklearn.metrics.pairwise import cosine_similarity\n",
    "from sklearn.preprocessing import MinMaxScaler\n",
    "from sklearn.model_selection import cross_val_score, KFold, train_test_split\n",
    "from sklearn.preprocessing import LabelEncoder\n",
    "from sklearn.pipeline import Pipeline\n",
    "from sklearn.metrics import confusion_matrix, accuracy_score\n",
    "\n",
    "import seaborn as sns\n",
    "import matplotlib.pyplot as plt\n",
    "\n",
    "\n",
    "import spotipy\n",
    "from spotipy.oauth2 import SpotifyClientCredentials\n",
    "from spotipy.oauth2 import SpotifyOAuth\n",
    "import spotipy.util as util\n",
    "\n",
    "import warnings\n",
    "warnings.filterwarnings(\"ignore\")"
   ]
  },
  {
   "cell_type": "code",
   "execution_count": 6,
   "id": "2487c876",
   "metadata": {},
   "outputs": [],
   "source": [
    "pd.set_option('display.max_columns', None)\n",
    "pd.set_option(\"display.max_rows\", None)"
   ]
  },
  {
   "cell_type": "code",
   "execution_count": 7,
   "id": "938851b4",
   "metadata": {},
   "outputs": [],
   "source": [
    "spotify_df = pd.read_csv('kaggleSPOTIFY.csv')"
   ]
  },
  {
   "cell_type": "code",
   "execution_count": 8,
   "id": "d69a5aec",
   "metadata": {},
   "outputs": [],
   "source": [
    "spotify_df.dropna(subset=['consolidates_genre_lists'], inplace=True)"
   ]
  },
  {
   "cell_type": "code",
   "execution_count": 9,
   "id": "c7ad2221",
   "metadata": {},
   "outputs": [
    {
     "data": {
      "text/plain": [
       "Unnamed: 0                  0\n",
       "valence                     0\n",
       "year                        0\n",
       "acousticness                0\n",
       "artists                     0\n",
       "danceability                0\n",
       "duration_ms                 0\n",
       "energy                      0\n",
       "explicit                    0\n",
       "id                          0\n",
       "instrumentalness            0\n",
       "key                         0\n",
       "liveness                    0\n",
       "loudness                    0\n",
       "mode                        0\n",
       "name                        0\n",
       "popularity                  0\n",
       "release_date                0\n",
       "speechiness                 0\n",
       "tempo                       0\n",
       "artists_upd_v1              0\n",
       "artists_upd_v2              0\n",
       "artists_upd                 0\n",
       "artists_song                0\n",
       "consolidates_genre_lists    0\n",
       "dtype: int64"
      ]
     },
     "execution_count": 9,
     "metadata": {},
     "output_type": "execute_result"
    }
   ],
   "source": [
    "spotify_df.isna().sum()"
   ]
  },
  {
   "cell_type": "code",
   "execution_count": 10,
   "id": "b5e3b8e1",
   "metadata": {},
   "outputs": [
    {
     "data": {
      "text/html": [
       "<div>\n",
       "<style scoped>\n",
       "    .dataframe tbody tr th:only-of-type {\n",
       "        vertical-align: middle;\n",
       "    }\n",
       "\n",
       "    .dataframe tbody tr th {\n",
       "        vertical-align: top;\n",
       "    }\n",
       "\n",
       "    .dataframe thead th {\n",
       "        text-align: right;\n",
       "    }\n",
       "</style>\n",
       "<table border=\"1\" class=\"dataframe\">\n",
       "  <thead>\n",
       "    <tr style=\"text-align: right;\">\n",
       "      <th></th>\n",
       "      <th>Unnamed: 0</th>\n",
       "      <th>valence</th>\n",
       "      <th>year</th>\n",
       "      <th>acousticness</th>\n",
       "      <th>artists</th>\n",
       "      <th>danceability</th>\n",
       "      <th>duration_ms</th>\n",
       "      <th>energy</th>\n",
       "      <th>explicit</th>\n",
       "      <th>id</th>\n",
       "      <th>instrumentalness</th>\n",
       "      <th>key</th>\n",
       "      <th>liveness</th>\n",
       "      <th>loudness</th>\n",
       "      <th>mode</th>\n",
       "      <th>name</th>\n",
       "      <th>popularity</th>\n",
       "      <th>release_date</th>\n",
       "      <th>speechiness</th>\n",
       "      <th>tempo</th>\n",
       "      <th>artists_upd_v1</th>\n",
       "      <th>artists_upd_v2</th>\n",
       "      <th>artists_upd</th>\n",
       "      <th>artists_song</th>\n",
       "      <th>consolidates_genre_lists</th>\n",
       "    </tr>\n",
       "  </thead>\n",
       "  <tbody>\n",
       "    <tr>\n",
       "      <th>0</th>\n",
       "      <td>0</td>\n",
       "      <td>0.177</td>\n",
       "      <td>1989</td>\n",
       "      <td>0.568</td>\n",
       "      <td>['조정현']</td>\n",
       "      <td>0.447</td>\n",
       "      <td>237688</td>\n",
       "      <td>0.2150</td>\n",
       "      <td>0</td>\n",
       "      <td>2ghebdwe2pNXT4eL34T7pW</td>\n",
       "      <td>0.000001</td>\n",
       "      <td>10</td>\n",
       "      <td>0.0649</td>\n",
       "      <td>-16.478</td>\n",
       "      <td>1</td>\n",
       "      <td>그아픔까지사랑한거야</td>\n",
       "      <td>31</td>\n",
       "      <td>1989-06-15</td>\n",
       "      <td>0.0272</td>\n",
       "      <td>71.979</td>\n",
       "      <td>['조정현']</td>\n",
       "      <td>[]</td>\n",
       "      <td>['조정현']</td>\n",
       "      <td>조정현그아픔까지사랑한거야</td>\n",
       "      <td>['classic_korean_pop']</td>\n",
       "    </tr>\n",
       "    <tr>\n",
       "      <th>1</th>\n",
       "      <td>1</td>\n",
       "      <td>0.352</td>\n",
       "      <td>1992</td>\n",
       "      <td>0.381</td>\n",
       "      <td>['黑豹']</td>\n",
       "      <td>0.353</td>\n",
       "      <td>316160</td>\n",
       "      <td>0.6860</td>\n",
       "      <td>0</td>\n",
       "      <td>3KIuCzckjdeeVuswPo20mC</td>\n",
       "      <td>0.000000</td>\n",
       "      <td>11</td>\n",
       "      <td>0.0568</td>\n",
       "      <td>-9.103</td>\n",
       "      <td>1</td>\n",
       "      <td>DON'T BREAK MY HEART</td>\n",
       "      <td>35</td>\n",
       "      <td>1992-12-22</td>\n",
       "      <td>0.0395</td>\n",
       "      <td>200.341</td>\n",
       "      <td>['黑豹']</td>\n",
       "      <td>[]</td>\n",
       "      <td>['黑豹']</td>\n",
       "      <td>黑豹DON'T BREAK MY HEART</td>\n",
       "      <td>['chinese_indie', 'chinese_indie_rock']</td>\n",
       "    </tr>\n",
       "    <tr>\n",
       "      <th>2</th>\n",
       "      <td>2</td>\n",
       "      <td>0.458</td>\n",
       "      <td>1963</td>\n",
       "      <td>0.987</td>\n",
       "      <td>['黃國隆']</td>\n",
       "      <td>0.241</td>\n",
       "      <td>193480</td>\n",
       "      <td>0.0437</td>\n",
       "      <td>0</td>\n",
       "      <td>4prhqrLXYMjHJ6vpRAlasx</td>\n",
       "      <td>0.000453</td>\n",
       "      <td>5</td>\n",
       "      <td>0.2650</td>\n",
       "      <td>-24.571</td>\n",
       "      <td>1</td>\n",
       "      <td>藝旦調</td>\n",
       "      <td>23</td>\n",
       "      <td>1963-05-28</td>\n",
       "      <td>0.0443</td>\n",
       "      <td>85.936</td>\n",
       "      <td>['黃國隆']</td>\n",
       "      <td>[]</td>\n",
       "      <td>['黃國隆']</td>\n",
       "      <td>黃國隆藝旦調</td>\n",
       "      <td>[]</td>\n",
       "    </tr>\n",
       "    <tr>\n",
       "      <th>3</th>\n",
       "      <td>3</td>\n",
       "      <td>0.796</td>\n",
       "      <td>1963</td>\n",
       "      <td>0.852</td>\n",
       "      <td>['黃國隆', '王秋玉']</td>\n",
       "      <td>0.711</td>\n",
       "      <td>145720</td>\n",
       "      <td>0.1110</td>\n",
       "      <td>0</td>\n",
       "      <td>5xFXTvnEe03SyvFpo6pEaE</td>\n",
       "      <td>0.000000</td>\n",
       "      <td>2</td>\n",
       "      <td>0.0695</td>\n",
       "      <td>-20.741</td>\n",
       "      <td>0</td>\n",
       "      <td>草螟弄雞公</td>\n",
       "      <td>23</td>\n",
       "      <td>1963-05-28</td>\n",
       "      <td>0.0697</td>\n",
       "      <td>124.273</td>\n",
       "      <td>['黃國隆', '王秋玉']</td>\n",
       "      <td>[]</td>\n",
       "      <td>['黃國隆', '王秋玉']</td>\n",
       "      <td>黃國隆草螟弄雞公</td>\n",
       "      <td>[]</td>\n",
       "    </tr>\n",
       "    <tr>\n",
       "      <th>4</th>\n",
       "      <td>4</td>\n",
       "      <td>0.704</td>\n",
       "      <td>1963</td>\n",
       "      <td>0.771</td>\n",
       "      <td>['黃國隆']</td>\n",
       "      <td>0.610</td>\n",
       "      <td>208760</td>\n",
       "      <td>0.1750</td>\n",
       "      <td>0</td>\n",
       "      <td>6Pqs2suXEqCGx7Lxg5dlrB</td>\n",
       "      <td>0.000000</td>\n",
       "      <td>7</td>\n",
       "      <td>0.0309</td>\n",
       "      <td>-20.232</td>\n",
       "      <td>1</td>\n",
       "      <td>思想起</td>\n",
       "      <td>23</td>\n",
       "      <td>1963-05-28</td>\n",
       "      <td>0.0419</td>\n",
       "      <td>124.662</td>\n",
       "      <td>['黃國隆']</td>\n",
       "      <td>[]</td>\n",
       "      <td>['黃國隆']</td>\n",
       "      <td>黃國隆思想起</td>\n",
       "      <td>[]</td>\n",
       "    </tr>\n",
       "  </tbody>\n",
       "</table>\n",
       "</div>"
      ],
      "text/plain": [
       "   Unnamed: 0  valence  year  acousticness         artists  danceability  \\\n",
       "0           0    0.177  1989         0.568         ['조정현']         0.447   \n",
       "1           1    0.352  1992         0.381          ['黑豹']         0.353   \n",
       "2           2    0.458  1963         0.987         ['黃國隆']         0.241   \n",
       "3           3    0.796  1963         0.852  ['黃國隆', '王秋玉']         0.711   \n",
       "4           4    0.704  1963         0.771         ['黃國隆']         0.610   \n",
       "\n",
       "   duration_ms  energy  explicit                      id  instrumentalness  \\\n",
       "0       237688  0.2150         0  2ghebdwe2pNXT4eL34T7pW          0.000001   \n",
       "1       316160  0.6860         0  3KIuCzckjdeeVuswPo20mC          0.000000   \n",
       "2       193480  0.0437         0  4prhqrLXYMjHJ6vpRAlasx          0.000453   \n",
       "3       145720  0.1110         0  5xFXTvnEe03SyvFpo6pEaE          0.000000   \n",
       "4       208760  0.1750         0  6Pqs2suXEqCGx7Lxg5dlrB          0.000000   \n",
       "\n",
       "   key  liveness  loudness  mode                  name  popularity  \\\n",
       "0   10    0.0649   -16.478     1            그아픔까지사랑한거야          31   \n",
       "1   11    0.0568    -9.103     1  DON'T BREAK MY HEART          35   \n",
       "2    5    0.2650   -24.571     1                   藝旦調          23   \n",
       "3    2    0.0695   -20.741     0                 草螟弄雞公          23   \n",
       "4    7    0.0309   -20.232     1                   思想起          23   \n",
       "\n",
       "  release_date  speechiness    tempo  artists_upd_v1 artists_upd_v2  \\\n",
       "0   1989-06-15       0.0272   71.979         ['조정현']             []   \n",
       "1   1992-12-22       0.0395  200.341          ['黑豹']             []   \n",
       "2   1963-05-28       0.0443   85.936         ['黃國隆']             []   \n",
       "3   1963-05-28       0.0697  124.273  ['黃國隆', '王秋玉']             []   \n",
       "4   1963-05-28       0.0419  124.662         ['黃國隆']             []   \n",
       "\n",
       "      artists_upd            artists_song  \\\n",
       "0         ['조정현']           조정현그아픔까지사랑한거야   \n",
       "1          ['黑豹']  黑豹DON'T BREAK MY HEART   \n",
       "2         ['黃國隆']                  黃國隆藝旦調   \n",
       "3  ['黃國隆', '王秋玉']                黃國隆草螟弄雞公   \n",
       "4         ['黃國隆']                  黃國隆思想起   \n",
       "\n",
       "                  consolidates_genre_lists  \n",
       "0                   ['classic_korean_pop']  \n",
       "1  ['chinese_indie', 'chinese_indie_rock']  \n",
       "2                                       []  \n",
       "3                                       []  \n",
       "4                                       []  "
      ]
     },
     "execution_count": 10,
     "metadata": {},
     "output_type": "execute_result"
    }
   ],
   "source": [
    "spotify_df.head()"
   ]
  },
  {
   "cell_type": "code",
   "execution_count": 11,
   "id": "951bdb51",
   "metadata": {},
   "outputs": [],
   "source": [
    "mood_prep = spotify_df[['duration_ms', 'danceability', 'acousticness', 'energy', 'instrumentalness',\n",
    "       'liveness', 'valence', 'loudness', 'speechiness', 'tempo']]"
   ]
  },
  {
   "cell_type": "code",
   "execution_count": 12,
   "id": "8fba9cf8",
   "metadata": {},
   "outputs": [
    {
     "data": {
      "text/plain": [
       "Index(['duration_ms', 'danceability', 'acousticness', 'energy',\n",
       "       'instrumentalness', 'liveness', 'valence', 'loudness', 'speechiness',\n",
       "       'tempo'],\n",
       "      dtype='object')"
      ]
     },
     "execution_count": 12,
     "metadata": {},
     "output_type": "execute_result"
    }
   ],
   "source": [
    "col_features = mood_prep.columns[:]\n",
    "col_features"
   ]
  },
  {
   "cell_type": "code",
   "execution_count": 13,
   "id": "d7c2918d",
   "metadata": {},
   "outputs": [],
   "source": [
    "mood_trans = MinMaxScaler().fit_transform(mood_prep[col_features])\n",
    "mood_trans_np = np.array(mood_prep[col_features])"
   ]
  },
  {
   "cell_type": "code",
   "execution_count": 14,
   "id": "bcabbecc",
   "metadata": {},
   "outputs": [
    {
     "data": {
      "text/plain": [
       "array([ 3.37093e+05,  4.26000e-01,  1.01000e-01,  6.46000e-01,\n",
       "        0.00000e+00,  3.58000e-01,  8.21000e-01, -1.10330e+01,\n",
       "        1.32000e-01,  2.05703e+02])"
      ]
     },
     "execution_count": 14,
     "metadata": {},
     "output_type": "execute_result"
    }
   ],
   "source": [
    "mood_trans_np[10011]"
   ]
  },
  {
   "cell_type": "code",
   "execution_count": 15,
   "id": "c793b84c",
   "metadata": {},
   "outputs": [],
   "source": [
    "df = pd.read_csv('data_moods.csv')"
   ]
  },
  {
   "cell_type": "code",
   "execution_count": 16,
   "id": "27e921e0",
   "metadata": {},
   "outputs": [],
   "source": [
    "cl_features = df.columns[6:-3]\n",
    "X= MinMaxScaler().fit_transform(df[cl_features])\n",
    "X2 = np.array(df[cl_features])\n",
    "Y = df['mood']"
   ]
  },
  {
   "cell_type": "code",
   "execution_count": 52,
   "id": "278a37d8",
   "metadata": {},
   "outputs": [
    {
     "ename": "ValueError",
     "evalue": "All arrays must be of the same length",
     "output_type": "error",
     "traceback": [
      "\u001b[1;31m---------------------------------------------------------------------------\u001b[0m",
      "\u001b[1;31mValueError\u001b[0m                                Traceback (most recent call last)",
      "Cell \u001b[1;32mIn[52], line 10\u001b[0m\n\u001b[0;32m      8\u001b[0m X_train,X_test,Y_train,Y_test \u001b[38;5;241m=\u001b[39m train_test_split(X,encoded_y,test_size\u001b[38;5;241m=\u001b[39m\u001b[38;5;241m0.1\u001b[39m,random_state\u001b[38;5;241m=\u001b[39m\u001b[38;5;241m15\u001b[39m)\n\u001b[0;32m      9\u001b[0m encoded_y \u001b[38;5;241m=\u001b[39m encoded_y[:\u001b[38;5;28mlen\u001b[39m(X_train)]\n\u001b[1;32m---> 10\u001b[0m target \u001b[38;5;241m=\u001b[39m pd\u001b[38;5;241m.\u001b[39mDataFrame({\u001b[38;5;124m'\u001b[39m\u001b[38;5;124mmood\u001b[39m\u001b[38;5;124m'\u001b[39m:df[\u001b[38;5;124m'\u001b[39m\u001b[38;5;124mmood\u001b[39m\u001b[38;5;124m'\u001b[39m]\u001b[38;5;241m.\u001b[39mtolist(),\u001b[38;5;124m'\u001b[39m\u001b[38;5;124mencode\u001b[39m\u001b[38;5;124m'\u001b[39m:encoded_y})\u001b[38;5;241m.\u001b[39mdrop_duplicates()\u001b[38;5;241m.\u001b[39msort_values([\u001b[38;5;124m'\u001b[39m\u001b[38;5;124mencode\u001b[39m\u001b[38;5;124m'\u001b[39m],ascending\u001b[38;5;241m=\u001b[39m\u001b[38;5;28;01mTrue\u001b[39;00m)\n\u001b[0;32m     11\u001b[0m target\n",
      "File \u001b[1;32mC:\\ProgramData\\anaconda3\\Lib\\site-packages\\pandas\\core\\frame.py:709\u001b[0m, in \u001b[0;36mDataFrame.__init__\u001b[1;34m(self, data, index, columns, dtype, copy)\u001b[0m\n\u001b[0;32m    703\u001b[0m     mgr \u001b[38;5;241m=\u001b[39m \u001b[38;5;28mself\u001b[39m\u001b[38;5;241m.\u001b[39m_init_mgr(\n\u001b[0;32m    704\u001b[0m         data, axes\u001b[38;5;241m=\u001b[39m{\u001b[38;5;124m\"\u001b[39m\u001b[38;5;124mindex\u001b[39m\u001b[38;5;124m\"\u001b[39m: index, \u001b[38;5;124m\"\u001b[39m\u001b[38;5;124mcolumns\u001b[39m\u001b[38;5;124m\"\u001b[39m: columns}, dtype\u001b[38;5;241m=\u001b[39mdtype, copy\u001b[38;5;241m=\u001b[39mcopy\n\u001b[0;32m    705\u001b[0m     )\n\u001b[0;32m    707\u001b[0m \u001b[38;5;28;01melif\u001b[39;00m \u001b[38;5;28misinstance\u001b[39m(data, \u001b[38;5;28mdict\u001b[39m):\n\u001b[0;32m    708\u001b[0m     \u001b[38;5;66;03m# GH#38939 de facto copy defaults to False only in non-dict cases\u001b[39;00m\n\u001b[1;32m--> 709\u001b[0m     mgr \u001b[38;5;241m=\u001b[39m dict_to_mgr(data, index, columns, dtype\u001b[38;5;241m=\u001b[39mdtype, copy\u001b[38;5;241m=\u001b[39mcopy, typ\u001b[38;5;241m=\u001b[39mmanager)\n\u001b[0;32m    710\u001b[0m \u001b[38;5;28;01melif\u001b[39;00m \u001b[38;5;28misinstance\u001b[39m(data, ma\u001b[38;5;241m.\u001b[39mMaskedArray):\n\u001b[0;32m    711\u001b[0m     \u001b[38;5;28;01mfrom\u001b[39;00m \u001b[38;5;21;01mnumpy\u001b[39;00m\u001b[38;5;21;01m.\u001b[39;00m\u001b[38;5;21;01mma\u001b[39;00m \u001b[38;5;28;01mimport\u001b[39;00m mrecords\n",
      "File \u001b[1;32mC:\\ProgramData\\anaconda3\\Lib\\site-packages\\pandas\\core\\internals\\construction.py:481\u001b[0m, in \u001b[0;36mdict_to_mgr\u001b[1;34m(data, index, columns, dtype, typ, copy)\u001b[0m\n\u001b[0;32m    477\u001b[0m     \u001b[38;5;28;01melse\u001b[39;00m:\n\u001b[0;32m    478\u001b[0m         \u001b[38;5;66;03m# dtype check to exclude e.g. range objects, scalars\u001b[39;00m\n\u001b[0;32m    479\u001b[0m         arrays \u001b[38;5;241m=\u001b[39m [x\u001b[38;5;241m.\u001b[39mcopy() \u001b[38;5;28;01mif\u001b[39;00m \u001b[38;5;28mhasattr\u001b[39m(x, \u001b[38;5;124m\"\u001b[39m\u001b[38;5;124mdtype\u001b[39m\u001b[38;5;124m\"\u001b[39m) \u001b[38;5;28;01melse\u001b[39;00m x \u001b[38;5;28;01mfor\u001b[39;00m x \u001b[38;5;129;01min\u001b[39;00m arrays]\n\u001b[1;32m--> 481\u001b[0m \u001b[38;5;28;01mreturn\u001b[39;00m arrays_to_mgr(arrays, columns, index, dtype\u001b[38;5;241m=\u001b[39mdtype, typ\u001b[38;5;241m=\u001b[39mtyp, consolidate\u001b[38;5;241m=\u001b[39mcopy)\n",
      "File \u001b[1;32mC:\\ProgramData\\anaconda3\\Lib\\site-packages\\pandas\\core\\internals\\construction.py:115\u001b[0m, in \u001b[0;36marrays_to_mgr\u001b[1;34m(arrays, columns, index, dtype, verify_integrity, typ, consolidate)\u001b[0m\n\u001b[0;32m    112\u001b[0m \u001b[38;5;28;01mif\u001b[39;00m verify_integrity:\n\u001b[0;32m    113\u001b[0m     \u001b[38;5;66;03m# figure out the index, if necessary\u001b[39;00m\n\u001b[0;32m    114\u001b[0m     \u001b[38;5;28;01mif\u001b[39;00m index \u001b[38;5;129;01mis\u001b[39;00m \u001b[38;5;28;01mNone\u001b[39;00m:\n\u001b[1;32m--> 115\u001b[0m         index \u001b[38;5;241m=\u001b[39m _extract_index(arrays)\n\u001b[0;32m    116\u001b[0m     \u001b[38;5;28;01melse\u001b[39;00m:\n\u001b[0;32m    117\u001b[0m         index \u001b[38;5;241m=\u001b[39m ensure_index(index)\n",
      "File \u001b[1;32mC:\\ProgramData\\anaconda3\\Lib\\site-packages\\pandas\\core\\internals\\construction.py:655\u001b[0m, in \u001b[0;36m_extract_index\u001b[1;34m(data)\u001b[0m\n\u001b[0;32m    653\u001b[0m lengths \u001b[38;5;241m=\u001b[39m \u001b[38;5;28mlist\u001b[39m(\u001b[38;5;28mset\u001b[39m(raw_lengths))\n\u001b[0;32m    654\u001b[0m \u001b[38;5;28;01mif\u001b[39;00m \u001b[38;5;28mlen\u001b[39m(lengths) \u001b[38;5;241m>\u001b[39m \u001b[38;5;241m1\u001b[39m:\n\u001b[1;32m--> 655\u001b[0m     \u001b[38;5;28;01mraise\u001b[39;00m \u001b[38;5;167;01mValueError\u001b[39;00m(\u001b[38;5;124m\"\u001b[39m\u001b[38;5;124mAll arrays must be of the same length\u001b[39m\u001b[38;5;124m\"\u001b[39m)\n\u001b[0;32m    657\u001b[0m \u001b[38;5;28;01mif\u001b[39;00m have_dicts:\n\u001b[0;32m    658\u001b[0m     \u001b[38;5;28;01mraise\u001b[39;00m \u001b[38;5;167;01mValueError\u001b[39;00m(\n\u001b[0;32m    659\u001b[0m         \u001b[38;5;124m\"\u001b[39m\u001b[38;5;124mMixing dicts with non-Series may lead to ambiguous ordering.\u001b[39m\u001b[38;5;124m\"\u001b[39m\n\u001b[0;32m    660\u001b[0m     )\n",
      "\u001b[1;31mValueError\u001b[0m: All arrays must be of the same length"
     ]
    }
   ],
   "source": [
    "encoder = LabelEncoder()\n",
    "encoder.fit(Y)\n",
    "encoded_y = encoder.transform(Y)\n",
    "\n",
    "\n",
    "dummy_y = utils.to_categorical(encoded_y)\n",
    "\n",
    "X_train,X_test,Y_train,Y_test = train_test_split(X,encoded_y,test_size=0.1,random_state=15)\n",
    "encoded_y = encoded_y[:len(X_train)]\n",
    "target = pd.DataFrame({'mood':df['mood'].tolist(),'encode':encoded_y}).drop_duplicates().sort_values(['encode'],ascending=True)\n",
    "target"
   ]
  },
  {
   "cell_type": "code",
   "execution_count": 41,
   "id": "69463afb",
   "metadata": {},
   "outputs": [],
   "source": [
    "def base_model():\n",
    "    model = Sequential()\n",
    "    model.add(Dense(8,input_dim=10,activation='relu'))\n",
    "    model.add(Dense(4,activation='softmax'))\n",
    "    model.compile(loss='categorical_crossentropy',optimizer='adam',\n",
    "                 metrics=['accuracy'])\n",
    "    return model"
   ]
  },
  {
   "cell_type": "code",
   "execution_count": 44,
   "id": "c135f6f8",
   "metadata": {},
   "outputs": [],
   "source": [
    "from scikeras.wrappers import KerasClassifier\n",
    "#Configure the model\n",
    "estimator = KerasClassifier(build_fn=base_model,epochs=300,batch_size=200,verbose=0)\n"
   ]
  },
  {
   "cell_type": "code",
   "execution_count": 50,
   "id": "306fd3b8",
   "metadata": {},
   "outputs": [
    {
     "name": "stdout",
     "output_type": "stream",
     "text": [
      "X_train shape: (617, 10)\n",
      "encoded_y shape: (686,)\n"
     ]
    }
   ],
   "source": [
    "\n",
    "print(\"X_train shape:\", X_train.shape)\n",
    "print(\"encoded_y shape:\", encoded_y.shape)"
   ]
  },
  {
   "cell_type": "code",
   "execution_count": null,
   "id": "ae28e894",
   "metadata": {},
   "outputs": [],
   "source": []
  }
 ],
 "metadata": {
  "kernelspec": {
   "display_name": "Python 3 (ipykernel)",
   "language": "python",
   "name": "python3"
  },
  "language_info": {
   "codemirror_mode": {
    "name": "ipython",
    "version": 3
   },
   "file_extension": ".py",
   "mimetype": "text/x-python",
   "name": "python",
   "nbconvert_exporter": "python",
   "pygments_lexer": "ipython3",
   "version": "3.11.5"
  }
 },
 "nbformat": 4,
 "nbformat_minor": 5
}
